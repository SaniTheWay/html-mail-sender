{
  "nbformat": 4,
  "nbformat_minor": 0,
  "metadata": {
    "colab": {
      "name": "HTML-Emailsend.ipynb",
      "private_outputs": true,
      "provenance": [],
      "collapsed_sections": []
    },
    "kernelspec": {
      "name": "python3",
      "display_name": "Python 3"
    },
    "language_info": {
      "name": "python"
    }
  },
  "cells": [
    {
      "cell_type": "code",
      "metadata": {
        "id": "u6H2RLT5A_ln"
      },
      "source": [
        "import smtplib\n",
        "from email.mime.multipart import MIMEMultipart\n",
        "from email.mime.text import MIMEText\n",
        "from email.mime.base import MIMEBase\n",
        "from email import encoders"
      ],
      "execution_count": null,
      "outputs": []
    },
    {
      "cell_type": "code",
      "metadata": {
        "id": "oA3mYBpXIKHt"
      },
      "source": [
        "!pip install pandas\n",
        "import pandas as pd\n"
      ],
      "execution_count": null,
      "outputs": []
    },
    {
      "cell_type": "code",
      "metadata": {
        "id": "iiGX_82ZHeep"
      },
      "source": [
        "# df_test1 = pd.read_csv('WEDP AUMP.csv')\n",
        "# df_test2 = pd.read_csv('ABC11.csv')"
      ],
      "execution_count": null,
      "outputs": []
    },
    {
      "cell_type": "code",
      "metadata": {
        "id": "SZ0w-TQBHtD4"
      },
      "source": [
        "sub = \"TEST - AmiTechFiesta\"\n",
        "fromadd = '<yourmail>'\n",
        "toadd = '<tomail>'\n",
        "password = '<password>'"
      ],
      "execution_count": null,
      "outputs": []
    },
    {
      "cell_type": "code",
      "metadata": {
        "id": "QMhN6s6eIVqC"
      },
      "source": [
        "# Create message container - the correct MIME type is multipart/alternative.\n",
        "msg = MIMEMultipart('alternative')\n",
        "msg['Subject'] = sub\n",
        "msg['From'] = fromadd\n",
        "msg['To'] = toadd"
      ],
      "execution_count": null,
      "outputs": []
    },
    {
      "cell_type": "code",
      "metadata": {
        "id": "CbJp-GfLIXHh"
      },
      "source": [
        "# Create the body of the message (a plain-text and an HTML version).\n",
        "# text = \"Hi!\\nHow are you?\\nHere is the link you wanted:\\nhttp://www.python.org\"\n",
        "html = \"\"\"\\\n",
        "\n",
        "      <html code>\n",
        "      \n",
        "\"\"\"\n"
      ],
      "execution_count": null,
      "outputs": []
    },
    {
      "cell_type": "code",
      "metadata": {
        "id": "bewhnyaNIa5z"
      },
      "source": [
        "# Record the MIME types of both parts - text/plain and text/html.\n",
        "# part1 = MIMEText(text, 'plain')\n",
        "part2 = MIMEText(html, 'html')\n"
      ],
      "execution_count": null,
      "outputs": []
    },
    {
      "cell_type": "code",
      "metadata": {
        "id": "AFBd1mpHIc7Q"
      },
      "source": [
        "# msg.attach(part1)\n",
        "msg.attach(part2)"
      ],
      "execution_count": null,
      "outputs": []
    },
    {
      "cell_type": "code",
      "metadata": {
        "id": "wpRTQFzwIe7g"
      },
      "source": [
        "#for gmail\n",
        "\n",
        "s=smtplib.SMTP('smtp.gmail.com', 587)\n",
        "s.ehlo()\n",
        "s.starttls()\n",
        "s.login(fromadd,password)\n",
        "tx=msg.as_string()\n",
        "s.sendmail(fromadd,toadd,tx)\n",
        "s.quit()\n",
        "print(\"Email Successfully Sent!\")"
      ],
      "execution_count": null,
      "outputs": []
    },
    {
      "cell_type": "code",
      "metadata": {
        "id": "mLZUvD0wIgx1"
      },
      "source": [
        ""
      ],
      "execution_count": null,
      "outputs": []
    }
  ]
}